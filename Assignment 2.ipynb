{
 "cells": [
  {
   "cell_type": "code",
   "execution_count": null,
   "id": "f94ff849",
   "metadata": {},
   "outputs": [],
   "source": []
  },
  {
   "cell_type": "markdown",
   "id": "44ee0991",
   "metadata": {},
   "source": [
    "Q1 https://www.hackerrank.com/challenges/map-and-lambda-expression/problem"
   ]
  },
  {
   "cell_type": "code",
   "execution_count": 2,
   "id": "42fa71c4",
   "metadata": {},
   "outputs": [
    {
     "name": "stdout",
     "output_type": "stream",
     "text": [
      "5\n",
      "[0, 1, 1, 8, 27]\n"
     ]
    }
   ],
   "source": [
    "cube = lambda x: x**3 \n",
    "\n",
    "def fibonacci(n):\n",
    "    x = []\n",
    "    a, b = 0, 1\n",
    "    while len(x) != n:\n",
    "        x.append(a)\n",
    "        a, b = b, a+b\n",
    "    return x\n",
    "\n",
    "if __name__ == '__main__':\n",
    "    n = int(input())\n",
    "    print(list(map(cube, fibonacci(n))))"
   ]
  },
  {
   "cell_type": "code",
   "execution_count": null,
   "id": "32ef8da4",
   "metadata": {},
   "outputs": [],
   "source": []
  },
  {
   "cell_type": "markdown",
   "id": "69a49c34",
   "metadata": {},
   "source": [
    "Q2 https://www.hackerrank.com/challenges/list-comprehensions/problem"
   ]
  },
  {
   "cell_type": "code",
   "execution_count": 1,
   "id": "63930936",
   "metadata": {},
   "outputs": [
    {
     "name": "stdout",
     "output_type": "stream",
     "text": [
      "1\n",
      "2\n",
      "3\n",
      "4\n",
      "[[0, 0, 0], [0, 0, 1], [0, 0, 2], [0, 0, 3], [0, 1, 0], [0, 1, 1], [0, 1, 2], [0, 2, 0], [0, 2, 1], [0, 2, 3], [1, 0, 0], [1, 0, 1], [1, 0, 2], [1, 1, 0], [1, 1, 1], [1, 1, 3], [1, 2, 0], [1, 2, 2], [1, 2, 3]]\n"
     ]
    }
   ],
   "source": [
    "x = int(input())\n",
    "y = int(input())\n",
    "z = int(input())\n",
    "n = int(input())\n",
    "\n",
    "coordinates = [[i, j, k] for i in range(x + 1) for j in range(y + 1) for k in range(z + 1) if i + j + k != n]\n",
    "\n",
    "print(coordinates)\n"
   ]
  },
  {
   "cell_type": "code",
   "execution_count": null,
   "id": "a7dd83d5",
   "metadata": {},
   "outputs": [],
   "source": []
  },
  {
   "cell_type": "markdown",
   "id": "323aad5e",
   "metadata": {},
   "source": [
    "Q 3 https://www.hackerrank.com/challenges/matching-specific-string/problem"
   ]
  },
  {
   "cell_type": "code",
   "execution_count": null,
   "id": "96d4f281",
   "metadata": {},
   "outputs": [],
   "source": [
    "Regex_Pattern = r'hackerrank'\n",
    "\n",
    "\n",
    "\n",
    "\n",
    "\n",
    "import re\n",
    "\n",
    "Test_String = input()\n",
    "\n",
    "match = re.findall(Regex_Pattern, Test_String)\n",
    "\n",
    "print(\"Number of matches :\", len(match))"
   ]
  },
  {
   "cell_type": "code",
   "execution_count": null,
   "id": "b0b0c237",
   "metadata": {},
   "outputs": [],
   "source": []
  },
  {
   "cell_type": "markdown",
   "id": "f3db99ee",
   "metadata": {},
   "source": [
    "Q 4 https://www.hackerrank.com/challenges/matching-digits-non-digit-character/problem"
   ]
  },
  {
   "cell_type": "code",
   "execution_count": 2,
   "id": "9cb992f6",
   "metadata": {},
   "outputs": [
    {
     "name": "stdout",
     "output_type": "stream",
     "text": [
      "28-02-1999\n",
      "true\n"
     ]
    }
   ],
   "source": [
    "Regex_Pattern = r\"\\d{2}\\D\\d{2}\\D\\d{4}\"\n",
    "\n",
    "import re\n",
    "\n",
    "print(str(bool(re.search(Regex_Pattern, input()))).lower())"
   ]
  },
  {
   "cell_type": "code",
   "execution_count": null,
   "id": "545342c2",
   "metadata": {},
   "outputs": [],
   "source": []
  },
  {
   "cell_type": "markdown",
   "id": "16fa1455",
   "metadata": {},
   "source": [
    "Q 5 https://www.hackerrank.com/challenges/matching-specific-characters/problem"
   ]
  },
  {
   "cell_type": "code",
   "execution_count": 10,
   "id": "d74f3865",
   "metadata": {},
   "outputs": [
    {
     "name": "stdout",
     "output_type": "stream",
     "text": [
      "3000s..\n",
      "false\n"
     ]
    }
   ],
   "source": [
    "Regex_Pattern = r'^[1-3]{1}[0-2]{1}[xs0]{1}[30Aa]{1}[xsu]{1}[,\\.]{1}$'\n",
    "\n",
    "import re\n",
    "\n",
    "print(str(bool(re.search(Regex_Pattern, input()))).lower())"
   ]
  },
  {
   "cell_type": "code",
   "execution_count": null,
   "id": "406638cd",
   "metadata": {},
   "outputs": [],
   "source": []
  },
  {
   "cell_type": "markdown",
   "id": "ec8ea5e7",
   "metadata": {},
   "source": [
    "Q 6 https://www.hackerrank.com/challenges/matching-specific-characters/problem"
   ]
  },
  {
   "cell_type": "code",
   "execution_count": null,
   "id": "19b01f2f",
   "metadata": {},
   "outputs": [],
   "source": [
    "Regex_Pattern = r'[1-3][0-2][xs0][30Aa][xsu][].,]'\n",
    "\n",
    "import re\n",
    "\n",
    "print(str(bool(re.search(Regex_Pattern, input()))).lower())"
   ]
  },
  {
   "cell_type": "code",
   "execution_count": null,
   "id": "480dcb87",
   "metadata": {},
   "outputs": [],
   "source": []
  },
  {
   "cell_type": "markdown",
   "id": "9d620623",
   "metadata": {},
   "source": [
    "Q 7 https://www.hackerrank.com/challenges/matching-range-of-characters/problem"
   ]
  },
  {
   "cell_type": "code",
   "execution_count": 6,
   "id": "9bb54e14",
   "metadata": {},
   "outputs": [
    {
     "name": "stdout",
     "output_type": "stream",
     "text": [
      "hh4CkRank\n",
      "false\n"
     ]
    }
   ],
   "source": [
    "Regex_Pattern = r'^[a-z][1-9][^a-z][^A-Z][A-Z]'\n",
    "\n",
    "import re\n",
    "\n",
    "print(str(bool(re.search(Regex_Pattern, input()))).lower())"
   ]
  },
  {
   "cell_type": "code",
   "execution_count": null,
   "id": "0cd1aee7",
   "metadata": {},
   "outputs": [],
   "source": []
  },
  {
   "cell_type": "markdown",
   "id": "c03e97b5",
   "metadata": {},
   "source": [
    "Q 8 https://www.hackerrank.com/challenges/matching-start-end/problem"
   ]
  },
  {
   "cell_type": "code",
   "execution_count": 7,
   "id": "e9c94450",
   "metadata": {},
   "outputs": [
    {
     "name": "stdout",
     "output_type": "stream",
     "text": [
      "1266a9\n",
      "false\n"
     ]
    }
   ],
   "source": [
    "Regex_Pattern = r\"^\\d\\w{4}\\.$\"\t# Do not delete 'r'.\n",
    "\n",
    "import re\n",
    "\n",
    "print(str(bool(re.search(Regex_Pattern, input()))).lower())"
   ]
  },
  {
   "cell_type": "code",
   "execution_count": null,
   "id": "56720d34",
   "metadata": {},
   "outputs": [],
   "source": []
  },
  {
   "cell_type": "code",
   "execution_count": null,
   "id": "1add1ad9",
   "metadata": {},
   "outputs": [],
   "source": []
  },
  {
   "cell_type": "code",
   "execution_count": null,
   "id": "d1f774c3",
   "metadata": {},
   "outputs": [],
   "source": []
  },
  {
   "cell_type": "code",
   "execution_count": null,
   "id": "0678c7cf",
   "metadata": {},
   "outputs": [],
   "source": []
  },
  {
   "cell_type": "code",
   "execution_count": null,
   "id": "3bc5303d",
   "metadata": {},
   "outputs": [],
   "source": []
  },
  {
   "cell_type": "code",
   "execution_count": null,
   "id": "2c9ce466",
   "metadata": {},
   "outputs": [],
   "source": []
  },
  {
   "cell_type": "code",
   "execution_count": null,
   "id": "799a1c2d",
   "metadata": {},
   "outputs": [],
   "source": []
  }
 ],
 "metadata": {
  "kernelspec": {
   "display_name": "Python 3 (ipykernel)",
   "language": "python",
   "name": "python3"
  },
  "language_info": {
   "codemirror_mode": {
    "name": "ipython",
    "version": 3
   },
   "file_extension": ".py",
   "mimetype": "text/x-python",
   "name": "python",
   "nbconvert_exporter": "python",
   "pygments_lexer": "ipython3",
   "version": "3.11.4"
  }
 },
 "nbformat": 4,
 "nbformat_minor": 5
}
