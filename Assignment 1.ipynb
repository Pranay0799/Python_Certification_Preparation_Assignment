{
 "cells": [
  {
   "cell_type": "code",
   "execution_count": 1,
   "id": "c116124f",
   "metadata": {},
   "outputs": [],
   "source": [
    "## Assignment No 1"
   ]
  },
  {
   "cell_type": "markdown",
   "id": "fb1487bd",
   "metadata": {},
   "source": [
    "Q1 https://www.hackerrank.com/challenges/finding-the-percentage/problem"
   ]
  },
  {
   "cell_type": "code",
   "execution_count": null,
   "id": "a2b94ff1",
   "metadata": {},
   "outputs": [],
   "source": [
    "\n",
    "n = int(input()) \n",
    "student_marks = {}  \n",
    "\n",
    "\n",
    "for i in range(n):\n",
    "    name, *marks = input().split()\n",
    "    marks = list(map(float, marks))\n",
    "    student_marks[name] = marks\n",
    "\n",
    "query_name = input()\n",
    "\n",
    "average_marks = sum(student_marks[query_name]) / len(student_marks[query_name])\n",
    "print(\"{:.2f}\".format(average_marks))"
   ]
  },
  {
   "cell_type": "code",
   "execution_count": null,
   "id": "56efbe1e",
   "metadata": {},
   "outputs": [],
   "source": []
  },
  {
   "cell_type": "markdown",
   "id": "719c4e1a",
   "metadata": {},
   "source": [
    "Q2 https://www.hackerrank.com/challenges/python-string-split-and-join/problem"
   ]
  },
  {
   "cell_type": "code",
   "execution_count": null,
   "id": "f735e018",
   "metadata": {},
   "outputs": [],
   "source": [
    "def split_and_join(line):\n",
    "    split_line = line.split()\n",
    "    join_line = \"-\".join(split_line)\n",
    "    return join_line\n",
    "\n",
    "if __name__ == '__main__':\n",
    "    line = input()\n",
    "    result = split_and_join(line)\n",
    "    print(result)"
   ]
  },
  {
   "cell_type": "code",
   "execution_count": null,
   "id": "51cdf5c5",
   "metadata": {},
   "outputs": [],
   "source": []
  },
  {
   "cell_type": "markdown",
   "id": "46ac7321",
   "metadata": {},
   "source": [
    "\n",
    "Q 3 https://www.hackerrank.com/challenges/py-set-intersection-operation/problem"
   ]
  },
  {
   "cell_type": "code",
   "execution_count": 13,
   "id": "bc461ac2",
   "metadata": {},
   "outputs": [
    {
     "name": "stdout",
     "output_type": "stream",
     "text": [
      "5\n",
      "1 2 5 6 4\n",
      "5\n",
      "1 2 3 4 5\n",
      "4\n"
     ]
    }
   ],
   "source": [
    "n = int(input())\n",
    "n_english = set(map(int, input().split()))\n",
    "\n",
    "m = int(input())\n",
    "m_french = set(map(int, input().split()))\n",
    "\n",
    "\n",
    "length = n_english.intersection(m_french)\n",
    "print(len(length))"
   ]
  },
  {
   "cell_type": "code",
   "execution_count": null,
   "id": "7d17b70a",
   "metadata": {},
   "outputs": [],
   "source": []
  },
  {
   "cell_type": "markdown",
   "id": "764b3199",
   "metadata": {},
   "source": [
    "Q4 https://www.hackerrank.com/challenges/find-second-maximum-number-in-a-list/problem"
   ]
  },
  {
   "cell_type": "code",
   "execution_count": 16,
   "id": "bfa288e4",
   "metadata": {},
   "outputs": [
    {
     "name": "stdout",
     "output_type": "stream",
     "text": [
      "5\n",
      "2 3 6 5 4\n",
      "5\n"
     ]
    }
   ],
   "source": [
    "if __name__ == '__main__':\n",
    "    n = int(input())\n",
    "    arr = map(int, input().split())\n",
    "    \n",
    "arr1 = set(arr)\n",
    "scores = sorted(arr1)\n",
    "print(scores[-2])"
   ]
  },
  {
   "cell_type": "code",
   "execution_count": null,
   "id": "89c6d784",
   "metadata": {},
   "outputs": [],
   "source": []
  },
  {
   "cell_type": "markdown",
   "id": "4f0704fd",
   "metadata": {},
   "source": [
    "Q 5 https://www.hackerrank.com/challenges/swap-case/problem"
   ]
  },
  {
   "cell_type": "code",
   "execution_count": 6,
   "id": "8a97c9fd",
   "metadata": {},
   "outputs": [
    {
     "name": "stdout",
     "output_type": "stream",
     "text": [
      "Pranay Kadge\n",
      "pRANAY kADGE\n"
     ]
    }
   ],
   "source": [
    "def swap_case(s):\n",
    "    swapped_s = [i.swapcase() for i in s]\n",
    "    swapped_str = \"\".join(swapped_s)\n",
    "    return swapped_str\n",
    "\n",
    "s = input()\n",
    "result = swap_case(s)\n",
    "print(result)\n",
    "                         "
   ]
  },
  {
   "cell_type": "code",
   "execution_count": null,
   "id": "215949bf",
   "metadata": {},
   "outputs": [],
   "source": []
  },
  {
   "cell_type": "markdown",
   "id": "b93f8abd",
   "metadata": {},
   "source": [
    "Q 6 https://www.hackerrank.com/challenges/python-arithmetic-operators/problem"
   ]
  },
  {
   "cell_type": "code",
   "execution_count": 7,
   "id": "56940781",
   "metadata": {},
   "outputs": [
    {
     "name": "stdout",
     "output_type": "stream",
     "text": [
      "3\n",
      "5\n",
      "8\n",
      "-2\n",
      "15\n"
     ]
    }
   ],
   "source": [
    "a = int(input())\n",
    "\n",
    "b = int(input())\n",
    "\n",
    "print(a+b)\n",
    "print(a-b)\n",
    "print(a*b)\n"
   ]
  },
  {
   "cell_type": "code",
   "execution_count": null,
   "id": "6241b3af",
   "metadata": {},
   "outputs": [],
   "source": []
  },
  {
   "cell_type": "markdown",
   "id": "dbde061a",
   "metadata": {},
   "source": [
    "Q 7 https://www.hackerrank.com/challenges/python-division/problem"
   ]
  },
  {
   "cell_type": "code",
   "execution_count": 8,
   "id": "b21cbf4c",
   "metadata": {},
   "outputs": [
    {
     "name": "stdout",
     "output_type": "stream",
     "text": [
      "6\n",
      "5\n",
      "1\n",
      "1.2\n"
     ]
    }
   ],
   "source": [
    "a = int(input())\n",
    "b = int(input())\n",
    "\n",
    "print(a//b)\n",
    "print(a/b)"
   ]
  },
  {
   "cell_type": "code",
   "execution_count": null,
   "id": "d29f8373",
   "metadata": {},
   "outputs": [],
   "source": []
  },
  {
   "cell_type": "markdown",
   "id": "846941ab",
   "metadata": {},
   "source": [
    "Q 8 https://www.hackerrank.com/challenges/py-if-else/problem"
   ]
  },
  {
   "cell_type": "code",
   "execution_count": 10,
   "id": "39a3f15a",
   "metadata": {},
   "outputs": [
    {
     "name": "stdout",
     "output_type": "stream",
     "text": [
      "24\n",
      "Not Weird\n"
     ]
    }
   ],
   "source": [
    "if __name__ == '__main__':\n",
    "    n = int(input().strip())\n",
    "if n % 2 != 0:\n",
    "    print(\"Weird\")\n",
    "else:\n",
    "    if n in range(2, 6) or n > 20:\n",
    "        print(\"Not Weird\")\n",
    "    else:\n",
    "        print(\"Weird\")"
   ]
  },
  {
   "cell_type": "code",
   "execution_count": null,
   "id": "94d5ae87",
   "metadata": {},
   "outputs": [],
   "source": []
  },
  {
   "cell_type": "markdown",
   "id": "5d6d724d",
   "metadata": {},
   "source": [
    "Q 9 https://www.hackerrank.com/challenges/nested-list/problem"
   ]
  },
  {
   "cell_type": "code",
   "execution_count": null,
   "id": "acd2900c",
   "metadata": {},
   "outputs": [],
   "source": [
    "if __name__ == '__main__':\n",
    "    n = int(input())\n",
    "    student_info = []\n",
    "    \n",
    "    for _ in range(n):\n",
    "        name = input()\n",
    "        grade = float(input())\n",
    "        student_info.append([name, grade])\n",
    "    \n",
    "    second_lowest_grade = sorted(set(grade for name, grade in student_info))[1]\n",
    "    \n",
    "    second_lowest_students = [name for name, grade in student_info if grade == second_lowest_grade]\n",
    "    \n",
    "    second_lowest_students.sort()\n",
    "    \n",
    "    for name in second_lowest_students:\n",
    "        print(name)\n"
   ]
  },
  {
   "cell_type": "code",
   "execution_count": null,
   "id": "f9d5df1d",
   "metadata": {},
   "outputs": [],
   "source": []
  },
  {
   "cell_type": "markdown",
   "id": "825cc142",
   "metadata": {},
   "source": [
    "Q 10 https://www.hackerrank.com/challenges/python-loops/problem"
   ]
  },
  {
   "cell_type": "code",
   "execution_count": null,
   "id": "bf0787c0",
   "metadata": {},
   "outputs": [],
   "source": [
    "if __name__ == '__main__':\n",
    "    n = int(input())\n",
    "    for i in range(n):\n",
    "        print(i**2)"
   ]
  },
  {
   "cell_type": "code",
   "execution_count": null,
   "id": "1d2e6a15",
   "metadata": {},
   "outputs": [],
   "source": []
  },
  {
   "cell_type": "markdown",
   "id": "6691d564",
   "metadata": {},
   "source": [
    "Q 11 https://www.hackerrank.com/challenges/write-a-function/problem"
   ]
  },
  {
   "cell_type": "code",
   "execution_count": 15,
   "id": "d2d066e2",
   "metadata": {},
   "outputs": [
    {
     "name": "stdout",
     "output_type": "stream",
     "text": [
      "Enter a year: 2004\n",
      "True\n"
     ]
    }
   ],
   "source": [
    "def is_leap(year):\n",
    "    if (year % 4 == 0 and year % 100 != 0) or (year % 400 == 0):\n",
    "        return True\n",
    "    else:\n",
    "        return False\n",
    "\n",
    "year = int(input(\"Enter a year: \"))\n",
    "print(is_leap(year))\n"
   ]
  },
  {
   "cell_type": "code",
   "execution_count": null,
   "id": "c9d86a38",
   "metadata": {},
   "outputs": [],
   "source": []
  },
  {
   "cell_type": "markdown",
   "id": "9665ea20",
   "metadata": {},
   "source": [
    "Q 12 https://www.hackerrank.com/challenges/find-a-string/problem"
   ]
  },
  {
   "cell_type": "code",
   "execution_count": 16,
   "id": "d8a6f131",
   "metadata": {},
   "outputs": [
    {
     "name": "stdout",
     "output_type": "stream",
     "text": [
      "Enter the original string: ptagah\n",
      "Enter the substring: ta\n",
      "1\n"
     ]
    }
   ],
   "source": [
    "def count_substring(string, substring):\n",
    "    count = 0\n",
    "    for i in range(len(string) - len(substring) + 1):\n",
    "        if string[i:i+len(substring)] == substring:\n",
    "            count += 1\n",
    "    return count\n",
    "\n",
    "original_string = input(\"Enter the original string: \")\n",
    "substring = input(\"Enter the substring: \")\n",
    "\n",
    "count = count_substring(original_string, substring)\n",
    "\n",
    "print(count)\n"
   ]
  },
  {
   "cell_type": "code",
   "execution_count": null,
   "id": "c644ec02",
   "metadata": {},
   "outputs": [],
   "source": []
  },
  {
   "cell_type": "markdown",
   "id": "d0dfb531",
   "metadata": {},
   "source": [
    "Q 13 https://www.hackerrank.com/challenges/python-lists/problem"
   ]
  },
  {
   "cell_type": "code",
   "execution_count": 1,
   "id": "f0d210ed",
   "metadata": {},
   "outputs": [
    {
     "name": "stdout",
     "output_type": "stream",
     "text": [
      "5\n",
      "append 3\n",
      "append 6\n",
      "append 9\n",
      "insert 1 10\n",
      "reverse\n"
     ]
    }
   ],
   "source": [
    "if __name__ == '__main__':\n",
    "    N = int(input())\n",
    "    my_list = []\n",
    "\n",
    "    for _ in range(N):\n",
    "        command = input().split()\n",
    "\n",
    "        if command[0] == 'insert':\n",
    "            my_list.insert(int(command[1]), int(command[2]))\n",
    "        elif command[0] == 'print':\n",
    "            print(my_list)\n",
    "        elif command[0] == 'remove':\n",
    "            my_list.remove(int(command[1]))\n",
    "        elif command[0] == 'append':\n",
    "            my_list.append(int(command[1]))\n",
    "        elif command[0] == 'sort':\n",
    "            my_list.sort()\n",
    "        elif command[0] == 'pop':\n",
    "            my_list.pop()\n",
    "        elif command[0] == 'reverse':\n",
    "            my_list.reverse()\n"
   ]
  },
  {
   "cell_type": "code",
   "execution_count": null,
   "id": "65d836a0",
   "metadata": {},
   "outputs": [],
   "source": []
  },
  {
   "cell_type": "code",
   "execution_count": null,
   "id": "bc9d5ef1",
   "metadata": {},
   "outputs": [],
   "source": []
  }
 ],
 "metadata": {
  "kernelspec": {
   "display_name": "Python 3 (ipykernel)",
   "language": "python",
   "name": "python3"
  },
  "language_info": {
   "codemirror_mode": {
    "name": "ipython",
    "version": 3
   },
   "file_extension": ".py",
   "mimetype": "text/x-python",
   "name": "python",
   "nbconvert_exporter": "python",
   "pygments_lexer": "ipython3",
   "version": "3.11.4"
  }
 },
 "nbformat": 4,
 "nbformat_minor": 5
}
