{
 "cells": [
  {
   "cell_type": "markdown",
   "id": "6df068d3",
   "metadata": {},
   "source": [
    "Python Interview Questions"
   ]
  },
  {
   "cell_type": "markdown",
   "id": "0ccee007",
   "metadata": {},
   "source": [
    "Q.1 What are the basic data types in Python?\n",
    "\n",
    "Ans :- The basic data types in Python are integer, float, string, list, tuple, dictionary, and Boolean."
   ]
  },
  {
   "cell_type": "code",
   "execution_count": null,
   "id": "158f98d5",
   "metadata": {},
   "outputs": [],
   "source": []
  },
  {
   "cell_type": "markdown",
   "id": "0f92b4cb",
   "metadata": {},
   "source": [
    "Q.2 How do you convert a string to an integer in most programming languages?\n",
    "\n",
    "Ans : -To convert a string to an integer in many programming languages, you can use functions like int() in Python"
   ]
  },
  {
   "cell_type": "code",
   "execution_count": null,
   "id": "d9a0d80a",
   "metadata": {},
   "outputs": [],
   "source": []
  },
  {
   "cell_type": "markdown",
   "id": "841422a8",
   "metadata": {},
   "source": [
    "Q3 Explain the difference between a shallow copy and a deep copy of an object.\n",
    "\n",
    "Ans :- A shallow copy creates a new object, but does not duplicate nested objects within the original object. A deep copy, on the other hand, creates a completely independent copy of both the original object and all nested objects."
   ]
  },
  {
   "cell_type": "code",
   "execution_count": null,
   "id": "86ad5c2c",
   "metadata": {},
   "outputs": [],
   "source": []
  },
  {
   "cell_type": "markdown",
   "id": "d1ee07d1",
   "metadata": {},
   "source": [
    "Q4 What is the purpose of the sys module in Python?\n",
    "\n",
    "Ans :- The sys module provides access to system-specific parameters and functions in Python. It's often used for system-related operations and accessing command-line arguments."
   ]
  },
  {
   "cell_type": "code",
   "execution_count": null,
   "id": "154008a0",
   "metadata": {},
   "outputs": [],
   "source": []
  },
  {
   "cell_type": "markdown",
   "id": "cb90d66e",
   "metadata": {},
   "source": [
    "Q.5 What does immutable mean and what three types of Python core data types are considered immutable?\n",
    "\n",
    "Ans : -An immutable data type is a type of object which cannot be modified after its creation. Numbers, strings, and tuples in Python fall into this category. Although you cannot modify an immutable object in place, you can always create a new one by running an expression."
   ]
  },
  {
   "cell_type": "code",
   "execution_count": null,
   "id": "9babfd3d",
   "metadata": {},
   "outputs": [],
   "source": []
  },
  {
   "cell_type": "markdown",
   "id": "ec392a8d",
   "metadata": {},
   "source": [
    "Q.6 What is the purpose of the 'in' operator in Python?\n",
    "\n",
    "Ans :- The 'in' operator is used to check if a value exists in a sequence (e.g., a list, string, or tuple)."
   ]
  },
  {
   "cell_type": "code",
   "execution_count": null,
   "id": "0ec88b13",
   "metadata": {},
   "outputs": [],
   "source": []
  },
  {
   "cell_type": "markdown",
   "id": "7adba886",
   "metadata": {},
   "source": [
    "Q 7 What is the difference between '==' and 'is' in Python?\n",
    "\n",
    "Ans : - '==' is used to compare the values of two objects, while 'is' is used to check if two objects are the same (i.e., they have the same memory address)."
   ]
  },
  {
   "cell_type": "code",
   "execution_count": null,
   "id": "7926830e",
   "metadata": {},
   "outputs": [],
   "source": []
  },
  {
   "cell_type": "markdown",
   "id": "12f672aa",
   "metadata": {},
   "source": [
    "Q 8 What is the // operator in Python used for?\n",
    "\n",
    "Ans :- The // operator is used for floor division. It performs division and returns the integer result, discarding the remainder."
   ]
  },
  {
   "cell_type": "code",
   "execution_count": null,
   "id": "7f945416",
   "metadata": {},
   "outputs": [],
   "source": []
  },
  {
   "cell_type": "markdown",
   "id": "ae9a6dbe",
   "metadata": {},
   "source": [
    "Q 9 Explain the and and or operators in Python.\n",
    "\n",
    "Ans :- The and operator returns True if both operands are True. The or operator returns True if at least one of the operands is True."
   ]
  },
  {
   "cell_type": "code",
   "execution_count": null,
   "id": "d6da3267",
   "metadata": {},
   "outputs": [],
   "source": []
  },
  {
   "cell_type": "markdown",
   "id": "2beff13c",
   "metadata": {},
   "source": [
    "Q 10 How can you compare two strings in Python?\n",
    "\n",
    "Ans :- You can use comparison operators such as '==', '!=', '>', '<', '>=', and '<=' to compare strings in Python. These operators compare strings based on their lexicographical (dictionary) order.\n"
   ]
  },
  {
   "cell_type": "code",
   "execution_count": null,
   "id": "3cd68f44",
   "metadata": {},
   "outputs": [],
   "source": []
  },
  {
   "cell_type": "markdown",
   "id": "3cbc01ba",
   "metadata": {},
   "source": [
    "Q 11 What is the purpose of the pass statement in Python?\n",
    "\n",
    "Ans :- The pass statement is a placeholder that does nothing. It's often used when a statement is syntactically required but the code does not need to execute any actions."
   ]
  },
  {
   "cell_type": "code",
   "execution_count": null,
   "id": "69aaa958",
   "metadata": {},
   "outputs": [],
   "source": []
  },
  {
   "cell_type": "markdown",
   "id": "65f2c4f3",
   "metadata": {},
   "source": [
    "Q 12 Explain the 'if-elif-else' statement in Python.\n",
    "\n",
    "Ans : -The 'if-elif-else' statement allows you to execute different blocks of code based on different conditions. If the 'if' condition is not met, it checks 'elif' conditions, and if none of them are met, it falls back to 'else.'"
   ]
  },
  {
   "cell_type": "code",
   "execution_count": null,
   "id": "1b05cb14",
   "metadata": {},
   "outputs": [],
   "source": []
  },
  {
   "cell_type": "markdown",
   "id": "a87f657e",
   "metadata": {},
   "source": [
    "Q 13 Describe the try, except, and finally blocks in Python.\n",
    "\n",
    "Ans :- The try block is used to enclose code that might raise an exception. The except block catches and handles exceptions. The finally block, if present, is executed regardless of whether an exception occurred."
   ]
  },
  {
   "cell_type": "code",
   "execution_count": null,
   "id": "dc72aecc",
   "metadata": {},
   "outputs": [],
   "source": []
  },
  {
   "cell_type": "markdown",
   "id": "f68ad7c6",
   "metadata": {},
   "source": [
    "Q 14 What is the ternary conditional operator in Python, and how is it used?\n",
    "\n",
    "Ans :- The ternary conditional operator (or conditional expression) is a one-liner 'if-else' statement. It's used as follows: value_if_true if condition else value_if_false."
   ]
  },
  {
   "cell_type": "code",
   "execution_count": null,
   "id": "95d7c7b1",
   "metadata": {},
   "outputs": [],
   "source": []
  },
  {
   "cell_type": "markdown",
   "id": "4028fcae",
   "metadata": {},
   "source": [
    "Q 15 What is the difference between 'for' and 'while' loops in Python?\n",
    "\n",
    "Ans :- 'for' loops are used for iterating over a sequence (e.g., a list), while 'while' loops are used to repeatedly execute a block of code as long as a condition is true."
   ]
  },
  {
   "cell_type": "code",
   "execution_count": null,
   "id": "5ca2256a",
   "metadata": {},
   "outputs": [],
   "source": []
  },
  {
   "cell_type": "markdown",
   "id": "a203384d",
   "metadata": {},
   "source": [
    "Q 16 Explain the concept of an infinite loop.\n",
    "\n",
    "Ans :- An infinite loop is a loop that never terminates because its condition always evaluates to true. It can lead to the program running indefinitely and should be avoided."
   ]
  },
  {
   "cell_type": "code",
   "execution_count": null,
   "id": "c885d64d",
   "metadata": {},
   "outputs": [],
   "source": []
  },
  {
   "cell_type": "markdown",
   "id": "23e90cc8",
   "metadata": {},
   "source": [
    "Q 17 Explain the 'break' and 'continue' statements in Python.\n",
    "\n",
    "Ans :- 'break' is used to exit the current loop, while 'continue' is used to skip the current iteration and move to the next iteration of the loop."
   ]
  },
  {
   "cell_type": "code",
   "execution_count": null,
   "id": "e89c3908",
   "metadata": {},
   "outputs": [],
   "source": []
  },
  {
   "cell_type": "markdown",
   "id": "527077b4",
   "metadata": {},
   "source": [
    "Q 18 Explain the range() function in Python.\n",
    "\n",
    "Ans:- The range() function generates a sequence of numbers within a specified range. It is commonly used in for loops to iterate a specific number of times."
   ]
  },
  {
   "cell_type": "code",
   "execution_count": null,
   "id": "51b5508e",
   "metadata": {},
   "outputs": [],
   "source": []
  },
  {
   "cell_type": "markdown",
   "id": "2b66e9f3",
   "metadata": {},
   "source": [
    "Q 19 What is a function in Python?\n",
    "\n",
    "Ans :- A function is a reusable block of code that performs a specific task. It takes input, processes it, and returns output."
   ]
  },
  {
   "cell_type": "code",
   "execution_count": null,
   "id": "d3f2886d",
   "metadata": {},
   "outputs": [],
   "source": []
  },
  {
   "cell_type": "markdown",
   "id": "cc346887",
   "metadata": {},
   "source": [
    "Q 20 What is a lambda function, and when would you use it?\n",
    "\n",
    "Ans :- A lambda function is an anonymous, small, and simple function defined using the lambda keyword. It is used for short, one-line tasks when you don't want to define a full function."
   ]
  },
  {
   "cell_type": "code",
   "execution_count": null,
   "id": "e6e591d2",
   "metadata": {},
   "outputs": [],
   "source": []
  },
  {
   "cell_type": "code",
   "execution_count": null,
   "id": "090eee91",
   "metadata": {},
   "outputs": [],
   "source": []
  }
 ],
 "metadata": {
  "kernelspec": {
   "display_name": "Python 3 (ipykernel)",
   "language": "python",
   "name": "python3"
  },
  "language_info": {
   "codemirror_mode": {
    "name": "ipython",
    "version": 3
   },
   "file_extension": ".py",
   "mimetype": "text/x-python",
   "name": "python",
   "nbconvert_exporter": "python",
   "pygments_lexer": "ipython3",
   "version": "3.11.4"
  }
 },
 "nbformat": 4,
 "nbformat_minor": 5
}
